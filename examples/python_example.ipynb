{
 "cells": [
  {
   "cell_type": "code",
   "execution_count": 13,
   "id": "7e267351",
   "metadata": {},
   "outputs": [
    {
     "name": "stdout",
     "output_type": "stream",
     "text": [
      "Help on module peelmesh:\n",
      "\n",
      "NAME\n",
      "    peelmesh - peelmesh pipeline for geodesic bounded region extraction.\n",
      "\n",
      "CLASSES\n",
      "    pybind11_builtins.pybind11_object(builtins.object)\n",
      "        PeelMeshPipeline\n",
      "        TriangleMesh\n",
      "    \n",
      "    class PeelMeshPipeline(pybind11_builtins.pybind11_object)\n",
      "     |  Method resolution order:\n",
      "     |      PeelMeshPipeline\n",
      "     |      pybind11_builtins.pybind11_object\n",
      "     |      builtins.object\n",
      "     |  \n",
      "     |  Methods defined here:\n",
      "     |  \n",
      "     |  __init__(...)\n",
      "     |      __init__(self: peelmesh.PeelMeshPipeline, arg0: list[numpy.ndarray[numpy.float64[3, 1]]], arg1: list[numpy.ndarray[numpy.int32[3, 1]]]) -> None\n",
      "     |  \n",
      "     |  add_geodesic_path(...)\n",
      "     |      add_geodesic_path(self: peelmesh.PeelMeshPipeline, start: int, end: int) -> None\n",
      "     |  \n",
      "     |  add_path(...)\n",
      "     |      add_path(self: peelmesh.PeelMeshPipeline, points: list[numpy.ndarray[numpy.float64[3, 1]]]) -> None\n",
      "     |  \n",
      "     |  auto_segmentation(...)\n",
      "     |      auto_segmentation(self: peelmesh.PeelMeshPipeline) -> list[peelmesh.TriangleMesh]\n",
      "     |  \n",
      "     |  get_geodesic_distance_between(...)\n",
      "     |      get_geodesic_distance_between(self: peelmesh.PeelMeshPipeline, arg0: int, arg1: int) -> float\n",
      "     |  \n",
      "     |  get_geodesic_distances(...)\n",
      "     |      get_geodesic_distances(self: peelmesh.PeelMeshPipeline) -> list[float]\n",
      "     |  \n",
      "     |  get_mesh(...)\n",
      "     |      get_mesh(self: peelmesh.PeelMeshPipeline) -> peelmesh.TriangleMesh\n",
      "     |  \n",
      "     |  peeloff_mesh(...)\n",
      "     |      peeloff_mesh(self: peelmesh.PeelMeshPipeline, boundary_landmarks: list[int]) -> peelmesh.TriangleMesh\n",
      "     |  \n",
      "     |  ----------------------------------------------------------------------\n",
      "     |  Static methods inherited from pybind11_builtins.pybind11_object:\n",
      "     |  \n",
      "     |  __new__(*args, **kwargs) from pybind11_builtins.pybind11_type\n",
      "     |      Create and return a new object.  See help(type) for accurate signature.\n",
      "    \n",
      "    class TriangleMesh(pybind11_builtins.pybind11_object)\n",
      "     |  Method resolution order:\n",
      "     |      TriangleMesh\n",
      "     |      pybind11_builtins.pybind11_object\n",
      "     |      builtins.object\n",
      "     |  \n",
      "     |  Methods defined here:\n",
      "     |  \n",
      "     |  __init__(...)\n",
      "     |      __init__(self: peelmesh.TriangleMesh, arg0: list[numpy.ndarray[numpy.float64[3, 1]]], arg1: list[numpy.ndarray[numpy.int32[3, 1]]]) -> None\n",
      "     |  \n",
      "     |  __str__(...)\n",
      "     |      __str__(self: peelmesh.TriangleMesh) -> None\n",
      "     |  \n",
      "     |  gaussian_curvature(...)\n",
      "     |      gaussian_curvature(self: peelmesh.TriangleMesh) -> list[float]\n",
      "     |  \n",
      "     |  get_mesh_data(...)\n",
      "     |      get_mesh_data(self: peelmesh.TriangleMesh) -> tuple[list[numpy.ndarray[numpy.float64[3, 1]]], list[numpy.ndarray[numpy.int32[3, 1]]]]\n",
      "     |  \n",
      "     |  max_principal_curvature(...)\n",
      "     |      max_principal_curvature(self: peelmesh.TriangleMesh) -> list[float]\n",
      "     |  \n",
      "     |  mean_curvature(...)\n",
      "     |      mean_curvature(self: peelmesh.TriangleMesh) -> list[float]\n",
      "     |  \n",
      "     |  min_principal_curvature(...)\n",
      "     |      min_principal_curvature(self: peelmesh.TriangleMesh) -> list[float]\n",
      "     |  \n",
      "     |  num_faces(...)\n",
      "     |      num_faces(self: peelmesh.TriangleMesh) -> int\n",
      "     |  \n",
      "     |  num_halfedges(...)\n",
      "     |      num_halfedges(self: peelmesh.TriangleMesh) -> int\n",
      "     |  \n",
      "     |  num_vertices(...)\n",
      "     |      num_vertices(self: peelmesh.TriangleMesh) -> int\n",
      "     |  \n",
      "     |  surface_area(...)\n",
      "     |      surface_area(self: peelmesh.TriangleMesh) -> float\n",
      "     |  \n",
      "     |  ----------------------------------------------------------------------\n",
      "     |  Static methods inherited from pybind11_builtins.pybind11_object:\n",
      "     |  \n",
      "     |  __new__(*args, **kwargs) from pybind11_builtins.pybind11_type\n",
      "     |      Create and return a new object.  See help(type) for accurate signature.\n",
      "\n",
      "FILE\n",
      "    d:\\project\\python\\new_peelmesh\\peelmesh.cp310-win_amd64.pyd\n",
      "\n",
      "\n"
     ]
    }
   ],
   "source": [
    "import numpy as np\n",
    "import peelmesh as pm\n",
    "\n",
    "help(peelmesh)"
   ]
  },
  {
   "cell_type": "code",
   "execution_count": 8,
   "id": "834625e2",
   "metadata": {},
   "outputs": [],
   "source": [
    "vertices = np.array([[0, 0, 0], [1, 0, 0], [0, 1, 0], [1, 1, 0]])\n",
    "triangles = np.asarray([[0, 1, 2], [1, 3, 2]])\n",
    "\n",
    "pipe = pm.PeelMeshPipeline(vertices, triangles)"
   ]
  },
  {
   "cell_type": "code",
   "execution_count": 10,
   "id": "9205a4fc",
   "metadata": {},
   "outputs": [],
   "source": [
    "pipe.add_geodesic_path(0, 1)\n",
    "pipe.add_geodesic_path(1, 3)\n",
    "pipe.add_geodesic_path(3, 0)\n",
    "\n",
    "segment = pipe.peeloff_mesh([0, 1, 3, 0])\n",
    "\n",
    "verts, tris = segment.get_mesh_data()"
   ]
  },
  {
   "cell_type": "code",
   "execution_count": 11,
   "id": "dfa3a587",
   "metadata": {},
   "outputs": [
    {
     "name": "stdout",
     "output_type": "stream",
     "text": [
      "[array([0.5, 0.5, 0. ]), array([0., 0., 0.]), array([1., 1., 0.]), array([1., 0., 0.])]\n"
     ]
    }
   ],
   "source": [
    "print(verts)"
   ]
  },
  {
   "cell_type": "code",
   "execution_count": 12,
   "id": "53bee925",
   "metadata": {},
   "outputs": [
    {
     "name": "stdout",
     "output_type": "stream",
     "text": [
      "[array([1, 3, 0]), array([2, 0, 3])]\n"
     ]
    }
   ],
   "source": [
    "print(tris)"
   ]
  },
  {
   "cell_type": "code",
   "execution_count": null,
   "id": "cd7f6dc9",
   "metadata": {},
   "outputs": [],
   "source": []
  }
 ],
 "metadata": {
  "kernelspec": {
   "display_name": "base",
   "language": "python",
   "name": "python3"
  },
  "language_info": {
   "codemirror_mode": {
    "name": "ipython",
    "version": 3
   },
   "file_extension": ".py",
   "mimetype": "text/x-python",
   "name": "python",
   "nbconvert_exporter": "python",
   "pygments_lexer": "ipython3",
   "version": "3.10.14"
  }
 },
 "nbformat": 4,
 "nbformat_minor": 5
}
